{
 "cells": [
  {
   "cell_type": "code",
   "execution_count": 1,
   "metadata": {},
   "outputs": [],
   "source": [
    "import numpy as np\n",
    "import pandas as pd\n",
    "from matplotlib import pyplot as plt\n",
    "from matplotlib import style\n",
    "style.use('ggplot')"
   ]
  },
  {
   "cell_type": "markdown",
   "metadata": {},
   "source": [
    "Step 1: Read In Data Set and Explore Data\n",
    "We need to read in the data set and get a feel to what data needs to be cleaned "
   ]
  },
  {
   "cell_type": "code",
   "execution_count": 2,
   "metadata": {},
   "outputs": [
    {
     "data": {
      "text/html": [
       "<div>\n",
       "<style scoped>\n",
       "    .dataframe tbody tr th:only-of-type {\n",
       "        vertical-align: middle;\n",
       "    }\n",
       "\n",
       "    .dataframe tbody tr th {\n",
       "        vertical-align: top;\n",
       "    }\n",
       "\n",
       "    .dataframe thead th {\n",
       "        text-align: right;\n",
       "    }\n",
       "</style>\n",
       "<table border=\"1\" class=\"dataframe\">\n",
       "  <thead>\n",
       "    <tr style=\"text-align: right;\">\n",
       "      <th></th>\n",
       "      <th>name</th>\n",
       "      <th>id</th>\n",
       "      <th>nametype</th>\n",
       "      <th>recclass</th>\n",
       "      <th>mass (g)</th>\n",
       "      <th>fall</th>\n",
       "      <th>year</th>\n",
       "      <th>reclat</th>\n",
       "      <th>reclong</th>\n",
       "      <th>GeoLocation</th>\n",
       "    </tr>\n",
       "  </thead>\n",
       "  <tbody>\n",
       "    <tr>\n",
       "      <th>0</th>\n",
       "      <td>Aachen</td>\n",
       "      <td>1</td>\n",
       "      <td>Valid</td>\n",
       "      <td>L5</td>\n",
       "      <td>21.0</td>\n",
       "      <td>Fell</td>\n",
       "      <td>01/01/1880 12:00:00 AM</td>\n",
       "      <td>50.77500</td>\n",
       "      <td>6.08333</td>\n",
       "      <td>(50.775, 6.08333)</td>\n",
       "    </tr>\n",
       "    <tr>\n",
       "      <th>1</th>\n",
       "      <td>Aarhus</td>\n",
       "      <td>2</td>\n",
       "      <td>Valid</td>\n",
       "      <td>H6</td>\n",
       "      <td>720.0</td>\n",
       "      <td>Fell</td>\n",
       "      <td>1/1/1951 0:00</td>\n",
       "      <td>56.18333</td>\n",
       "      <td>10.23333</td>\n",
       "      <td>(56.18333, 10.23333)</td>\n",
       "    </tr>\n",
       "    <tr>\n",
       "      <th>2</th>\n",
       "      <td>Abee</td>\n",
       "      <td>6</td>\n",
       "      <td>Valid</td>\n",
       "      <td>EH4</td>\n",
       "      <td>107000.0</td>\n",
       "      <td>Fell</td>\n",
       "      <td>1/1/1952 0:00</td>\n",
       "      <td>54.21667</td>\n",
       "      <td>-113.00000</td>\n",
       "      <td>(54.21667, -113.0)</td>\n",
       "    </tr>\n",
       "    <tr>\n",
       "      <th>3</th>\n",
       "      <td>Acapulco</td>\n",
       "      <td>10</td>\n",
       "      <td>Valid</td>\n",
       "      <td>Acapulcoite</td>\n",
       "      <td>1914.0</td>\n",
       "      <td>Fell</td>\n",
       "      <td>1/1/1976 0:00</td>\n",
       "      <td>16.88333</td>\n",
       "      <td>-99.90000</td>\n",
       "      <td>(16.88333, -99.9)</td>\n",
       "    </tr>\n",
       "    <tr>\n",
       "      <th>4</th>\n",
       "      <td>Achiras</td>\n",
       "      <td>370</td>\n",
       "      <td>Valid</td>\n",
       "      <td>L6</td>\n",
       "      <td>780.0</td>\n",
       "      <td>Fell</td>\n",
       "      <td>1/1/1902 0:00</td>\n",
       "      <td>-33.16667</td>\n",
       "      <td>-64.95000</td>\n",
       "      <td>(-33.16667, -64.95)</td>\n",
       "    </tr>\n",
       "  </tbody>\n",
       "</table>\n",
       "</div>"
      ],
      "text/plain": [
       "       name   id nametype     recclass  mass (g)  fall  \\\n",
       "0    Aachen    1    Valid           L5      21.0  Fell   \n",
       "1    Aarhus    2    Valid           H6     720.0  Fell   \n",
       "2      Abee    6    Valid          EH4  107000.0  Fell   \n",
       "3  Acapulco   10    Valid  Acapulcoite    1914.0  Fell   \n",
       "4   Achiras  370    Valid           L6     780.0  Fell   \n",
       "\n",
       "                     year    reclat    reclong           GeoLocation  \n",
       "0  01/01/1880 12:00:00 AM  50.77500    6.08333     (50.775, 6.08333)  \n",
       "1           1/1/1951 0:00  56.18333   10.23333  (56.18333, 10.23333)  \n",
       "2           1/1/1952 0:00  54.21667 -113.00000    (54.21667, -113.0)  \n",
       "3           1/1/1976 0:00  16.88333  -99.90000     (16.88333, -99.9)  \n",
       "4           1/1/1902 0:00 -33.16667  -64.95000   (-33.16667, -64.95)  "
      ]
     },
     "execution_count": 2,
     "metadata": {},
     "output_type": "execute_result"
    }
   ],
   "source": [
    "df = pd.read_csv('data_set/Meteorite_Landings.csv')\n",
    "df.head()"
   ]
  },
  {
   "cell_type": "code",
   "execution_count": 3,
   "metadata": {},
   "outputs": [
    {
     "name": "stdout",
     "output_type": "stream",
     "text": [
      "Size of DataSet(rows, columns):  (45716, 10)\n",
      "\n",
      "<class 'pandas.core.frame.DataFrame'>\n",
      "RangeIndex: 45716 entries, 0 to 45715\n",
      "Data columns (total 10 columns):\n",
      "name           45716 non-null object\n",
      "id             45716 non-null int64\n",
      "nametype       45716 non-null object\n",
      "recclass       45716 non-null object\n",
      "mass (g)       45585 non-null float64\n",
      "fall           45716 non-null object\n",
      "year           45425 non-null object\n",
      "reclat         38401 non-null float64\n",
      "reclong        38401 non-null float64\n",
      "GeoLocation    38401 non-null object\n",
      "dtypes: float64(3), int64(1), object(6)\n",
      "memory usage: 3.5+ MB\n",
      "Quick Stats of Dataset:  None\n",
      "\n",
      "Columns of Dataset:  Index(['name', 'id', 'nametype', 'recclass', 'mass (g)', 'fall', 'year',\n",
      "       'reclat', 'reclong', 'GeoLocation'],\n",
      "      dtype='object')\n"
     ]
    }
   ],
   "source": [
    "# For exploring the data\n",
    "print(\"Size of DataSet(rows, columns): \", df.shape)\n",
    "print()\n",
    "print(\"Quick Stats of Dataset: \", df.info())\n",
    "print()\n",
    "print(\"Columns of Dataset: \", df.columns)"
   ]
  },
  {
   "cell_type": "markdown",
   "metadata": {},
   "source": [
    "Looking at the describe() there seems to be null values in the mass, year, reclong, reclat, and GeoLocation columns. Let's use the following command down below just to make sure"
   ]
  },
  {
   "cell_type": "markdown",
   "metadata": {},
   "source": [
    "Step 2: Drop null values\n",
    "The first real step in cleaning your data is dropping null values"
   ]
  },
  {
   "cell_type": "code",
   "execution_count": 4,
   "metadata": {},
   "outputs": [
    {
     "data": {
      "text/plain": [
       "name              0\n",
       "id                0\n",
       "nametype          0\n",
       "recclass          0\n",
       "mass (g)        131\n",
       "fall              0\n",
       "year            291\n",
       "reclat         7315\n",
       "reclong        7315\n",
       "GeoLocation    7315\n",
       "dtype: int64"
      ]
     },
     "execution_count": 4,
     "metadata": {},
     "output_type": "execute_result"
    }
   ],
   "source": [
    "pd.isnull(df).sum() # check for NaN's and None's"
   ]
  },
  {
   "cell_type": "code",
   "execution_count": 5,
   "metadata": {},
   "outputs": [
    {
     "data": {
      "text/plain": [
       "name           0\n",
       "id             0\n",
       "nametype       0\n",
       "recclass       0\n",
       "mass (g)       0\n",
       "fall           0\n",
       "year           0\n",
       "reclat         0\n",
       "reclong        0\n",
       "GeoLocation    0\n",
       "dtype: int64"
      ]
     },
     "execution_count": 5,
     "metadata": {},
     "output_type": "execute_result"
    }
   ],
   "source": [
    "df.dropna(axis=0, how='any', inplace=True)\n",
    "pd.isnull(df).sum() # drop all missing values inside of the data set"
   ]
  },
  {
   "cell_type": "markdown",
   "metadata": {},
   "source": [
    "Data can also be replaced by using df.replace(to_replace=None, value=None) but that won't be necessary with this data set. Note a feature/attribute/column can also be dropped if more than %90 of the rows have null values with a simple df.drop(df['feature_name'], axis=1). "
   ]
  },
  {
   "cell_type": "markdown",
   "metadata": {},
   "source": [
    "Step 3 : Dropping Irrelevenat Features\n",
    "Not all features/attributes/columns are relevant to your goal, the best way is to figure out what your end goal is and determine what is absolutley necessary to achieve that "
   ]
  },
  {
   "cell_type": "code",
   "execution_count": 6,
   "metadata": {},
   "outputs": [
    {
     "data": {
      "text/html": [
       "<div>\n",
       "<style scoped>\n",
       "    .dataframe tbody tr th:only-of-type {\n",
       "        vertical-align: middle;\n",
       "    }\n",
       "\n",
       "    .dataframe tbody tr th {\n",
       "        vertical-align: top;\n",
       "    }\n",
       "\n",
       "    .dataframe thead th {\n",
       "        text-align: right;\n",
       "    }\n",
       "</style>\n",
       "<table border=\"1\" class=\"dataframe\">\n",
       "  <thead>\n",
       "    <tr style=\"text-align: right;\">\n",
       "      <th></th>\n",
       "      <th>name</th>\n",
       "      <th>id</th>\n",
       "      <th>nametype</th>\n",
       "      <th>recclass</th>\n",
       "      <th>mass (g)</th>\n",
       "      <th>fall</th>\n",
       "      <th>year</th>\n",
       "      <th>reclat</th>\n",
       "      <th>reclong</th>\n",
       "      <th>GeoLocation</th>\n",
       "    </tr>\n",
       "  </thead>\n",
       "  <tbody>\n",
       "    <tr>\n",
       "      <th>0</th>\n",
       "      <td>Aachen</td>\n",
       "      <td>1</td>\n",
       "      <td>Valid</td>\n",
       "      <td>L5</td>\n",
       "      <td>21.0</td>\n",
       "      <td>Fell</td>\n",
       "      <td>01/01/1880 12:00:00 AM</td>\n",
       "      <td>50.77500</td>\n",
       "      <td>6.08333</td>\n",
       "      <td>(50.775, 6.08333)</td>\n",
       "    </tr>\n",
       "    <tr>\n",
       "      <th>1</th>\n",
       "      <td>Aarhus</td>\n",
       "      <td>2</td>\n",
       "      <td>Valid</td>\n",
       "      <td>H6</td>\n",
       "      <td>720.0</td>\n",
       "      <td>Fell</td>\n",
       "      <td>1/1/1951 0:00</td>\n",
       "      <td>56.18333</td>\n",
       "      <td>10.23333</td>\n",
       "      <td>(56.18333, 10.23333)</td>\n",
       "    </tr>\n",
       "    <tr>\n",
       "      <th>2</th>\n",
       "      <td>Abee</td>\n",
       "      <td>6</td>\n",
       "      <td>Valid</td>\n",
       "      <td>EH4</td>\n",
       "      <td>107000.0</td>\n",
       "      <td>Fell</td>\n",
       "      <td>1/1/1952 0:00</td>\n",
       "      <td>54.21667</td>\n",
       "      <td>-113.00000</td>\n",
       "      <td>(54.21667, -113.0)</td>\n",
       "    </tr>\n",
       "    <tr>\n",
       "      <th>3</th>\n",
       "      <td>Acapulco</td>\n",
       "      <td>10</td>\n",
       "      <td>Valid</td>\n",
       "      <td>Acapulcoite</td>\n",
       "      <td>1914.0</td>\n",
       "      <td>Fell</td>\n",
       "      <td>1/1/1976 0:00</td>\n",
       "      <td>16.88333</td>\n",
       "      <td>-99.90000</td>\n",
       "      <td>(16.88333, -99.9)</td>\n",
       "    </tr>\n",
       "    <tr>\n",
       "      <th>4</th>\n",
       "      <td>Achiras</td>\n",
       "      <td>370</td>\n",
       "      <td>Valid</td>\n",
       "      <td>L6</td>\n",
       "      <td>780.0</td>\n",
       "      <td>Fell</td>\n",
       "      <td>1/1/1902 0:00</td>\n",
       "      <td>-33.16667</td>\n",
       "      <td>-64.95000</td>\n",
       "      <td>(-33.16667, -64.95)</td>\n",
       "    </tr>\n",
       "  </tbody>\n",
       "</table>\n",
       "</div>"
      ],
      "text/plain": [
       "       name   id nametype     recclass  mass (g)  fall  \\\n",
       "0    Aachen    1    Valid           L5      21.0  Fell   \n",
       "1    Aarhus    2    Valid           H6     720.0  Fell   \n",
       "2      Abee    6    Valid          EH4  107000.0  Fell   \n",
       "3  Acapulco   10    Valid  Acapulcoite    1914.0  Fell   \n",
       "4   Achiras  370    Valid           L6     780.0  Fell   \n",
       "\n",
       "                     year    reclat    reclong           GeoLocation  \n",
       "0  01/01/1880 12:00:00 AM  50.77500    6.08333     (50.775, 6.08333)  \n",
       "1           1/1/1951 0:00  56.18333   10.23333  (56.18333, 10.23333)  \n",
       "2           1/1/1952 0:00  54.21667 -113.00000    (54.21667, -113.0)  \n",
       "3           1/1/1976 0:00  16.88333  -99.90000     (16.88333, -99.9)  \n",
       "4           1/1/1902 0:00 -33.16667  -64.95000   (-33.16667, -64.95)  "
      ]
     },
     "execution_count": 6,
     "metadata": {},
     "output_type": "execute_result"
    }
   ],
   "source": [
    "df.head()"
   ]
  },
  {
   "cell_type": "code",
   "execution_count": 7,
   "metadata": {},
   "outputs": [
    {
     "name": "stdout",
     "output_type": "stream",
     "text": [
      "['Fell' 'Found']\n",
      "\n",
      "Found    37050\n",
      "Fell      1065\n",
      "Name: fall, dtype: int64\n"
     ]
    }
   ],
   "source": [
    "print(df.fall.unique()) # fall just tracks if the meteorite was seen falling towards the earth (fell)  \n",
    "print() # or if it was found before the fall (found)\n",
    "print(df['fall'].value_counts()) # displays amount of unqiue values for each"
   ]
  },
  {
   "cell_type": "code",
   "execution_count": 8,
   "metadata": {},
   "outputs": [
    {
     "name": "stdout",
     "output_type": "stream",
     "text": [
      "['Valid' 'Relict']\n",
      "\n",
      "Valid     38094\n",
      "Relict       21\n",
      "Name: nametype, dtype: int64\n"
     ]
    }
   ],
   "source": [
    "print(df.nametype.unique())\n",
    "print()\n",
    "print(df['nametype'].value_counts()) # we do the same analysis with name type"
   ]
  },
  {
   "cell_type": "code",
   "execution_count": 9,
   "metadata": {},
   "outputs": [
    {
     "name": "stdout",
     "output_type": "stream",
     "text": [
      "['L5' 'H6' 'EH4' 'Acapulcoite' 'L6' 'LL3-6' 'H5' 'L' 'Diogenite-pm' 'H4'\n",
      " 'H' 'Iron, IVA' 'CR2-an' 'LL5' 'CI1' 'L/LL4' 'Eucrite-mmict' 'CV3'\n",
      " 'Ureilite-an' 'Stone-uncl' 'L3' 'Angrite' 'LL6' 'L4' 'Aubrite'\n",
      " 'Iron, IIAB' 'Iron, IAB-sLL' 'Iron, ungrouped' 'CM2' 'Mesosiderite-A1'\n",
      " 'LL4' 'C2-ung' 'LL3.8' 'Howardite' 'Eucrite-pmict' 'Diogenite' 'LL3.15'\n",
      " 'LL3.9' 'Iron, IAB-MG' 'H/L3.9' 'Eucrite' 'H4-an' 'L/LL6' 'Iron, IIIAB'\n",
      " 'OC' 'H/L4' 'H4-5' 'L3.7' 'LL3.4' 'Martian (chassignite)' 'EL6' 'H3.8'\n",
      " 'H3-5' 'H5-6' 'Mesosiderite' 'H5-7' 'L3-6' 'H4-6' 'Ureilite' 'Iron, IID'\n",
      " 'Mesosiderite-A3/4' 'CO3.3' 'H3' 'EH3/4-an' 'Iron, IIE' 'L/LL5' 'H3.7'\n",
      " 'CBa' 'H4/5' 'H3/4' 'H?' 'H3-6' 'L3.4' 'Iron, IAB-sHL' 'L3.7-6' 'EH7-an'\n",
      " 'Iron' 'CR2' 'CO3.2' 'K3' 'L5/6' 'CK4' 'Iron, IIE-an' 'L3.6' 'LL3.2'\n",
      " 'CO3.5' 'Lodranite' 'Mesosiderite-A3' 'L3-4' 'H5/6' 'Pallasite, PMG'\n",
      " 'Eucrite-cm' 'Pallasite' 'L5-6' 'CO3.6' 'Martian (nakhlite)' 'LL3.6'\n",
      " 'C3-ung' 'H3-4' 'CO3.4' 'EH3' 'Iron, IAB-ung' 'Winonaite' 'LL'\n",
      " 'Eucrite-br' 'Iron, IIF' 'R3.8-6' 'L4-6' 'EH5' 'LL3.00' 'H3.4'\n",
      " 'Martian (shergottite)' 'Achondrite-ung' 'LL3.3' 'C' 'H/L3.6'\n",
      " 'Iron, IIIAB-an' 'LL7' 'Mesosiderite-B2' 'LL4-6' 'CO3.7' 'L/LL6-an'\n",
      " 'Iron, IAB complex' 'Pallasite, PMG-an' 'H3.9/4' 'L3.8' 'LL5-6' 'LL3.8-6'\n",
      " 'L3.9' 'L4-5' 'L3-5' 'LL4/5' 'L4/5' 'H3.9' 'H3.6-6' 'H3.8-5' 'H3.8/4'\n",
      " 'H3.9-5' 'CH3' 'R3.8-5' 'L3.9/4' 'E4' 'CO3' 'Chondrite-ung' 'H~5' 'H~6'\n",
      " 'L/LL3.10' 'EL5' 'LL3' 'L~6' 'L~3' 'H~4' 'L(LL)3.5-3.7' 'Iron, IIIE-an'\n",
      " 'H3.6' 'L3.4-3.7' 'L3.5' 'CM1/2' 'Martian (OPX)' 'Brachinite' 'LL7(?)'\n",
      " 'LL6(?)' 'Eucrite-Mg rich' 'H3.5-4' 'EL3' 'R3.6' 'H3.5' 'CM1' 'L/LL3'\n",
      " 'H7' 'L(?)3' 'L3.2' 'L3.7-3.9' 'Mesosiderite-B1' 'LL3.7' 'CO3.0' 'LL3.5'\n",
      " 'L3.7-4' 'Eucrite-unbr' 'CV3-an' 'Lunar (anorth)' 'L3.3' 'Iron, IAB-sLM'\n",
      " 'Lunar' 'Iron, IC' 'Iron, IID-an' 'Iron, IIIE' 'Iron, IVA-an' 'CK6'\n",
      " 'L3.1' 'CK5' 'H3.3' 'H3.7-6' 'E6' 'H3.0' 'H3.1' 'L3.0' 'L/LL3.4' 'C6'\n",
      " 'LL3.0' 'Lunar (gabbro)' 'R4' 'C4' 'Iron, IIG' 'Iron, IIC' 'H5-an'\n",
      " 'EH4/5' 'Iron, IIIF' 'R3-6' 'Mesosiderite-B4' 'L6/7' 'L-imp melt' 'CK3'\n",
      " 'H3-an' 'Iron, IVB' 'R3.8' 'L~5' 'Mesosiderite-an' 'Mesosiderite-A2'\n",
      " 'Pallasite, PES' 'C4-ung' 'Iron, IAB?' 'Mesosiderite-A' 'R3.5-6' 'H3.9-6'\n",
      " 'Ureilite-pmict' 'LL~6' 'CK4/5' 'EL4' 'Lunar (feldsp. breccia)' 'L3.9-6'\n",
      " 'H-an' 'L/LL3-6' 'L/LL3-5' 'H/L3.5' 'H/L3' 'R3-4' 'CK3-an' 'LL4-5' 'H/L6'\n",
      " 'L3/4' 'H-imp melt' 'CR' 'Chondrite-fusion crust' 'Iron, IAB-sLH'\n",
      " 'H(L)3-an' 'L(LL)3' 'H(L)3' 'R3' 'L7' 'CM-an' 'L/LL~6' 'L/LL~5' 'L~4'\n",
      " 'L/LL~4' 'LL(L)3' 'H3.2' 'L-melt breccia' 'H6-melt breccia'\n",
      " 'H5-melt breccia' 'H-melt rock' 'Eucrite-an' 'Lunar (bas/anor)' 'LL5/6'\n",
      " 'LL3/4' 'H3.4/3.5' 'Lunar (basalt)' 'H/L5' 'H(5?)' 'LL-imp melt'\n",
      " 'Mesosiderite?' 'H~4/5' 'L6-melt breccia' 'L3.5-3.7' 'Iron, IIAB-an'\n",
      " 'L3.3-3.7' 'L3.2-3.6' 'L3.3-3.6' 'Acapulcoite/Lodranite' 'Mesosiderite-B'\n",
      " 'CK5/6' 'L3.05' 'C2' 'C4/5' 'L/LL3.2' 'Iron, IIIAB?' 'L3.5-5' 'L/LL(?)3'\n",
      " 'H4(?)' 'Iron, IAB-sHH' 'Relict iron' 'EL4/5' 'L5-7' 'Diogenite-an' 'CR1'\n",
      " 'H5 ' 'L5 ' 'H4 ' 'L4 ' 'E' 'L6 ' 'H3 ' 'LL6 ' 'H-metal' 'H6 ' 'L-metal'\n",
      " 'Mesosiderite-A4' 'L/LL5/6' 'H3.8-4' 'CBb' 'EL6/7' 'EL7' 'CH/CBb' 'CO3.8'\n",
      " 'H/L~4' 'Mesosiderite-C2' 'R5' 'H4/6' 'L-melt rock' 'H3.7-5' 'LL3.7-6'\n",
      " 'H3.7/3.8' 'L3.7/3.8' 'EH-imp melt' 'R' 'Aubrite-an' 'R6' 'L3.5-3.9'\n",
      " 'L3.2-3.5' 'L3.3-3.5' 'L3.0-3.7' 'E3-an' 'K' 'E3' 'CK4-an' 'Fusion crust'\n",
      " 'L(LL)3.05' 'L3.10' 'Acapulcoite/lodranite' 'CB' 'LL-melt rock'\n",
      " 'EL-melt rock' 'EH6' 'Pallasite, ungrouped' 'L/LL4/5' 'L3.8-an'\n",
      " 'Iron, IAB-an' 'C5/6-ung' 'CV2' 'Iron, IC-an' 'Lunar (bas. breccia)'\n",
      " 'L3.8-6' 'H3.05' 'H3.10' 'Iron, IAB-sHL-an' 'Achondrite-prim' 'LL3.05'\n",
      " 'CK' 'Diogenite-olivine' 'LL3.8-4' 'C3.0-ung' 'LL-melt breccia'\n",
      " 'LL6-melt breccia' 'L5-melt breccia' 'CO3.1' 'R3-5' 'LL6-an'\n",
      " 'L4-melt breccia' 'Howardite-an' 'H4-melt breccia'\n",
      " 'Martian (basaltic breccia)' 'L3-melt breccia' 'L~4-6' 'LL~5' 'R3.5-4'\n",
      " 'CR7' 'H-melt breccia' 'Lunar (norite)' 'L3.00' 'H3.0-3.4' 'Relict OC'\n",
      " 'L/LL4-6' 'EH7' 'L4-an' 'E-an' 'LL3-5' 'H3.8/3.9' 'L3.9-5' 'H3.8-6'\n",
      " 'H3.4-5' 'L3.0-3.9' 'L3.5-3.8' 'H3.2-3.7' 'L3.6-4' 'L/LL3.6/3.7' 'H/L4-5'\n",
      " 'Enst achon-ung' 'LL~3' 'Pallasite?' 'LL5-7' 'LL3.9/4' 'H3.8-an' 'CR-an'\n",
      " 'L/LL5-6' 'L(LL)5' 'L(LL)6' 'LL3.1-3.5' 'LL3.1' 'E5' 'Lodranite-an'\n",
      " 'H3.2-6' 'EH' 'H(?)4' 'E5-an' 'H3.2-an' 'EH6-an' 'Stone-ung' 'R3.9'\n",
      " 'C1/2-ung' 'L/LL' 'CM' 'Mesosiderite-C']\n",
      "\n",
      "L6                       7519\n",
      "H5                       6243\n",
      "H6                       3898\n",
      "H4                       3880\n",
      "L5                       3264\n",
      "LL5                      2199\n",
      "LL6                      1660\n",
      "L4                        939\n",
      "H4/5                      395\n",
      "CM2                       330\n",
      "H3                        313\n",
      "CO3                       308\n",
      "Iron, IIIAB               270\n",
      "L3                        268\n",
      "LL                        223\n",
      "Ureilite                  214\n",
      "E3                        205\n",
      "LL4                       198\n",
      "CV3                       184\n",
      "Howardite                 179\n",
      "Diogenite                 178\n",
      "Eucrite-pmict             169\n",
      "H5/6                      166\n",
      "CR2                       116\n",
      "Eucrite                   115\n",
      "Iron, IIAB                111\n",
      "Mesosiderite              107\n",
      "H~5                       106\n",
      "Iron, ungrouped           105\n",
      "LL3                        88\n",
      "                         ... \n",
      "H3.2-3.7                    1\n",
      "K                           1\n",
      "LL6-an                      1\n",
      "EH7                         1\n",
      "H3.8-5                      1\n",
      "L4-an                       1\n",
      "CV2                         1\n",
      "L/LL3.6/3.7                 1\n",
      "H/L3.9                      1\n",
      "L/LL                        1\n",
      "H3.4/3.5                    1\n",
      "R                           1\n",
      "E5-an                       1\n",
      "H/L3                        1\n",
      "H3.7/3.8                    1\n",
      "Iron, IAB-sHL-an            1\n",
      "L4-melt breccia             1\n",
      "R3-4                        1\n",
      "L/LL5/6                     1\n",
      "LL3.05                      1\n",
      "L/LL4/5                     1\n",
      "L/LL5-6                     1\n",
      "Acapulcoite/lodranite       1\n",
      "L3.7/3.8                    1\n",
      "H3.8-4                      1\n",
      "H(?)4                       1\n",
      "L/LL~4                      1\n",
      "EL4/5                       1\n",
      "Iron, IIIE-an               1\n",
      "L3.3-3.5                    1\n",
      "Name: recclass, Length: 422, dtype: int64\n"
     ]
    }
   ],
   "source": [
    "print(df.recclass.unique()) # recclass is the class of meteorite\n",
    "print() # this might come in handy later but we may need to drop it later \n",
    "print(df['recclass'].value_counts()) # we will keep it for now"
   ]
  },
  {
   "cell_type": "code",
   "execution_count": 10,
   "metadata": {},
   "outputs": [],
   "source": [
    "df.drop(['nametype', 'fall'], axis=1, inplace=True)"
   ]
  },
  {
   "cell_type": "code",
   "execution_count": 11,
   "metadata": {},
   "outputs": [
    {
     "data": {
      "text/html": [
       "<div>\n",
       "<style scoped>\n",
       "    .dataframe tbody tr th:only-of-type {\n",
       "        vertical-align: middle;\n",
       "    }\n",
       "\n",
       "    .dataframe tbody tr th {\n",
       "        vertical-align: top;\n",
       "    }\n",
       "\n",
       "    .dataframe thead th {\n",
       "        text-align: right;\n",
       "    }\n",
       "</style>\n",
       "<table border=\"1\" class=\"dataframe\">\n",
       "  <thead>\n",
       "    <tr style=\"text-align: right;\">\n",
       "      <th></th>\n",
       "      <th>name</th>\n",
       "      <th>id</th>\n",
       "      <th>recclass</th>\n",
       "      <th>mass (g)</th>\n",
       "      <th>year</th>\n",
       "      <th>reclat</th>\n",
       "      <th>reclong</th>\n",
       "      <th>GeoLocation</th>\n",
       "    </tr>\n",
       "  </thead>\n",
       "  <tbody>\n",
       "    <tr>\n",
       "      <th>0</th>\n",
       "      <td>Aachen</td>\n",
       "      <td>1</td>\n",
       "      <td>L5</td>\n",
       "      <td>21.0</td>\n",
       "      <td>01/01/1880 12:00:00 AM</td>\n",
       "      <td>50.77500</td>\n",
       "      <td>6.08333</td>\n",
       "      <td>(50.775, 6.08333)</td>\n",
       "    </tr>\n",
       "    <tr>\n",
       "      <th>1</th>\n",
       "      <td>Aarhus</td>\n",
       "      <td>2</td>\n",
       "      <td>H6</td>\n",
       "      <td>720.0</td>\n",
       "      <td>1/1/1951 0:00</td>\n",
       "      <td>56.18333</td>\n",
       "      <td>10.23333</td>\n",
       "      <td>(56.18333, 10.23333)</td>\n",
       "    </tr>\n",
       "    <tr>\n",
       "      <th>2</th>\n",
       "      <td>Abee</td>\n",
       "      <td>6</td>\n",
       "      <td>EH4</td>\n",
       "      <td>107000.0</td>\n",
       "      <td>1/1/1952 0:00</td>\n",
       "      <td>54.21667</td>\n",
       "      <td>-113.00000</td>\n",
       "      <td>(54.21667, -113.0)</td>\n",
       "    </tr>\n",
       "    <tr>\n",
       "      <th>3</th>\n",
       "      <td>Acapulco</td>\n",
       "      <td>10</td>\n",
       "      <td>Acapulcoite</td>\n",
       "      <td>1914.0</td>\n",
       "      <td>1/1/1976 0:00</td>\n",
       "      <td>16.88333</td>\n",
       "      <td>-99.90000</td>\n",
       "      <td>(16.88333, -99.9)</td>\n",
       "    </tr>\n",
       "    <tr>\n",
       "      <th>4</th>\n",
       "      <td>Achiras</td>\n",
       "      <td>370</td>\n",
       "      <td>L6</td>\n",
       "      <td>780.0</td>\n",
       "      <td>1/1/1902 0:00</td>\n",
       "      <td>-33.16667</td>\n",
       "      <td>-64.95000</td>\n",
       "      <td>(-33.16667, -64.95)</td>\n",
       "    </tr>\n",
       "  </tbody>\n",
       "</table>\n",
       "</div>"
      ],
      "text/plain": [
       "       name   id     recclass  mass (g)                    year    reclat  \\\n",
       "0    Aachen    1           L5      21.0  01/01/1880 12:00:00 AM  50.77500   \n",
       "1    Aarhus    2           H6     720.0           1/1/1951 0:00  56.18333   \n",
       "2      Abee    6          EH4  107000.0           1/1/1952 0:00  54.21667   \n",
       "3  Acapulco   10  Acapulcoite    1914.0           1/1/1976 0:00  16.88333   \n",
       "4   Achiras  370           L6     780.0           1/1/1902 0:00 -33.16667   \n",
       "\n",
       "     reclong           GeoLocation  \n",
       "0    6.08333     (50.775, 6.08333)  \n",
       "1   10.23333  (56.18333, 10.23333)  \n",
       "2 -113.00000    (54.21667, -113.0)  \n",
       "3  -99.90000     (16.88333, -99.9)  \n",
       "4  -64.95000   (-33.16667, -64.95)  "
      ]
     },
     "execution_count": 11,
     "metadata": {},
     "output_type": "execute_result"
    }
   ],
   "source": [
    "df.head()"
   ]
  },
  {
   "cell_type": "markdown",
   "metadata": {},
   "source": [
    "Step 4: Standardization \n",
    "Now that we have dropped the columns that are not necessary we will now format the columns so that they are readable for our data set"
   ]
  },
  {
   "cell_type": "code",
   "execution_count": 12,
   "metadata": {},
   "outputs": [
    {
     "data": {
      "text/plain": [
       "0    01/01/1880 12:00:00 AM\n",
       "1             1/1/1951 0:00\n",
       "2             1/1/1952 0:00\n",
       "3             1/1/1976 0:00\n",
       "4             1/1/1902 0:00\n",
       "Name: year, dtype: object"
      ]
     },
     "execution_count": 12,
     "metadata": {},
     "output_type": "execute_result"
    }
   ],
   "source": [
    "# we need to minimize our year so it just says the year the meteor landed, not the whole date\n",
    "df['year'].head()"
   ]
  },
  {
   "cell_type": "code",
   "execution_count": 13,
   "metadata": {},
   "outputs": [
    {
     "name": "stdout",
     "output_type": "stream",
     "text": [
      "0    01/01/1880 12:00:00 AM\n",
      "1             1/1/1951 0:00\n",
      "2             1/1/1952 0:00\n",
      "3             1/1/1976 0:00\n",
      "4             1/1/1902 0:00\n",
      "Name: year, dtype: object\n"
     ]
    },
    {
     "data": {
      "text/html": [
       "<div>\n",
       "<style scoped>\n",
       "    .dataframe tbody tr th:only-of-type {\n",
       "        vertical-align: middle;\n",
       "    }\n",
       "\n",
       "    .dataframe tbody tr th {\n",
       "        vertical-align: top;\n",
       "    }\n",
       "\n",
       "    .dataframe thead th {\n",
       "        text-align: right;\n",
       "    }\n",
       "</style>\n",
       "<table border=\"1\" class=\"dataframe\">\n",
       "  <thead>\n",
       "    <tr style=\"text-align: right;\">\n",
       "      <th></th>\n",
       "      <th>0</th>\n",
       "    </tr>\n",
       "  </thead>\n",
       "  <tbody>\n",
       "    <tr>\n",
       "      <th>0</th>\n",
       "      <td>1880</td>\n",
       "    </tr>\n",
       "    <tr>\n",
       "      <th>1</th>\n",
       "      <td>1951</td>\n",
       "    </tr>\n",
       "    <tr>\n",
       "      <th>2</th>\n",
       "      <td>1952</td>\n",
       "    </tr>\n",
       "    <tr>\n",
       "      <th>3</th>\n",
       "      <td>1976</td>\n",
       "    </tr>\n",
       "    <tr>\n",
       "      <th>4</th>\n",
       "      <td>1902</td>\n",
       "    </tr>\n",
       "  </tbody>\n",
       "</table>\n",
       "</div>"
      ],
      "text/plain": [
       "      0\n",
       "0  1880\n",
       "1  1951\n",
       "2  1952\n",
       "3  1976\n",
       "4  1902"
      ]
     },
     "execution_count": 13,
     "metadata": {},
     "output_type": "execute_result"
    }
   ],
   "source": [
    "extr = df['year'].str.extract(pat=\"(\\d{4})\") # using regex we get the last 4 digits of each date\n",
    "print(df['year'].head())\n",
    "extr.head()"
   ]
  },
  {
   "cell_type": "code",
   "execution_count": 18,
   "metadata": {},
   "outputs": [],
   "source": [
    "# replace year with extr and label it year\n",
    "df.drop(['year'], axis=1, inplace=True)\n",
    "df.insert(loc=0, column='year', value=extr)"
   ]
  },
  {
   "cell_type": "code",
   "execution_count": 19,
   "metadata": {},
   "outputs": [
    {
     "data": {
      "text/html": [
       "<div>\n",
       "<style scoped>\n",
       "    .dataframe tbody tr th:only-of-type {\n",
       "        vertical-align: middle;\n",
       "    }\n",
       "\n",
       "    .dataframe tbody tr th {\n",
       "        vertical-align: top;\n",
       "    }\n",
       "\n",
       "    .dataframe thead th {\n",
       "        text-align: right;\n",
       "    }\n",
       "</style>\n",
       "<table border=\"1\" class=\"dataframe\">\n",
       "  <thead>\n",
       "    <tr style=\"text-align: right;\">\n",
       "      <th></th>\n",
       "      <th>year</th>\n",
       "      <th>name</th>\n",
       "      <th>id</th>\n",
       "      <th>recclass</th>\n",
       "      <th>mass (g)</th>\n",
       "      <th>reclat</th>\n",
       "      <th>reclong</th>\n",
       "      <th>GeoLocation</th>\n",
       "    </tr>\n",
       "  </thead>\n",
       "  <tbody>\n",
       "    <tr>\n",
       "      <th>0</th>\n",
       "      <td>1880</td>\n",
       "      <td>Aachen</td>\n",
       "      <td>1</td>\n",
       "      <td>L5</td>\n",
       "      <td>21.0</td>\n",
       "      <td>50.77500</td>\n",
       "      <td>6.08333</td>\n",
       "      <td>(50.775, 6.08333)</td>\n",
       "    </tr>\n",
       "    <tr>\n",
       "      <th>1</th>\n",
       "      <td>1951</td>\n",
       "      <td>Aarhus</td>\n",
       "      <td>2</td>\n",
       "      <td>H6</td>\n",
       "      <td>720.0</td>\n",
       "      <td>56.18333</td>\n",
       "      <td>10.23333</td>\n",
       "      <td>(56.18333, 10.23333)</td>\n",
       "    </tr>\n",
       "    <tr>\n",
       "      <th>2</th>\n",
       "      <td>1952</td>\n",
       "      <td>Abee</td>\n",
       "      <td>6</td>\n",
       "      <td>EH4</td>\n",
       "      <td>107000.0</td>\n",
       "      <td>54.21667</td>\n",
       "      <td>-113.00000</td>\n",
       "      <td>(54.21667, -113.0)</td>\n",
       "    </tr>\n",
       "    <tr>\n",
       "      <th>3</th>\n",
       "      <td>1976</td>\n",
       "      <td>Acapulco</td>\n",
       "      <td>10</td>\n",
       "      <td>Acapulcoite</td>\n",
       "      <td>1914.0</td>\n",
       "      <td>16.88333</td>\n",
       "      <td>-99.90000</td>\n",
       "      <td>(16.88333, -99.9)</td>\n",
       "    </tr>\n",
       "    <tr>\n",
       "      <th>4</th>\n",
       "      <td>1902</td>\n",
       "      <td>Achiras</td>\n",
       "      <td>370</td>\n",
       "      <td>L6</td>\n",
       "      <td>780.0</td>\n",
       "      <td>-33.16667</td>\n",
       "      <td>-64.95000</td>\n",
       "      <td>(-33.16667, -64.95)</td>\n",
       "    </tr>\n",
       "  </tbody>\n",
       "</table>\n",
       "</div>"
      ],
      "text/plain": [
       "   year      name   id     recclass  mass (g)    reclat    reclong  \\\n",
       "0  1880    Aachen    1           L5      21.0  50.77500    6.08333   \n",
       "1  1951    Aarhus    2           H6     720.0  56.18333   10.23333   \n",
       "2  1952      Abee    6          EH4  107000.0  54.21667 -113.00000   \n",
       "3  1976  Acapulco   10  Acapulcoite    1914.0  16.88333  -99.90000   \n",
       "4  1902   Achiras  370           L6     780.0 -33.16667  -64.95000   \n",
       "\n",
       "            GeoLocation  \n",
       "0     (50.775, 6.08333)  \n",
       "1  (56.18333, 10.23333)  \n",
       "2    (54.21667, -113.0)  \n",
       "3     (16.88333, -99.9)  \n",
       "4   (-33.16667, -64.95)  "
      ]
     },
     "execution_count": 19,
     "metadata": {},
     "output_type": "execute_result"
    }
   ],
   "source": [
    "df.head() # should display only the year for year"
   ]
  },
  {
   "cell_type": "code",
   "execution_count": 21,
   "metadata": {},
   "outputs": [
    {
     "name": "stdout",
     "output_type": "stream",
     "text": [
      "<class 'pandas.core.frame.DataFrame'>\n",
      "Int64Index: 38115 entries, 0 to 45715\n",
      "Data columns (total 8 columns):\n",
      "year           38115 non-null object\n",
      "name           38115 non-null object\n",
      "id             38115 non-null int64\n",
      "recclass       38115 non-null object\n",
      "mass (g)       38115 non-null float64\n",
      "reclat         38115 non-null float64\n",
      "reclong        38115 non-null float64\n",
      "GeoLocation    38115 non-null object\n",
      "dtypes: float64(3), int64(1), object(4)\n",
      "memory usage: 2.6+ MB\n"
     ]
    }
   ],
   "source": [
    "# round reclat and reclong to 2 digits past the decimal point\n",
    "# since the only floats are reclat, reclong, and mass: these will be the ones rounded\n",
    "df.info() "
   ]
  },
  {
   "cell_type": "code",
   "execution_count": 36,
   "metadata": {},
   "outputs": [],
   "source": [
    "df = df.round(decimals=2) # rounds to two decimal places"
   ]
  },
  {
   "cell_type": "code",
   "execution_count": 37,
   "metadata": {},
   "outputs": [
    {
     "data": {
      "text/html": [
       "<div>\n",
       "<style scoped>\n",
       "    .dataframe tbody tr th:only-of-type {\n",
       "        vertical-align: middle;\n",
       "    }\n",
       "\n",
       "    .dataframe tbody tr th {\n",
       "        vertical-align: top;\n",
       "    }\n",
       "\n",
       "    .dataframe thead th {\n",
       "        text-align: right;\n",
       "    }\n",
       "</style>\n",
       "<table border=\"1\" class=\"dataframe\">\n",
       "  <thead>\n",
       "    <tr style=\"text-align: right;\">\n",
       "      <th></th>\n",
       "      <th>year</th>\n",
       "      <th>name</th>\n",
       "      <th>id</th>\n",
       "      <th>recclass</th>\n",
       "      <th>mass (g)</th>\n",
       "      <th>reclat</th>\n",
       "      <th>reclong</th>\n",
       "      <th>GeoLocation</th>\n",
       "    </tr>\n",
       "  </thead>\n",
       "  <tbody>\n",
       "    <tr>\n",
       "      <th>0</th>\n",
       "      <td>1880</td>\n",
       "      <td>Aachen</td>\n",
       "      <td>1</td>\n",
       "      <td>L5</td>\n",
       "      <td>21.0</td>\n",
       "      <td>50.78</td>\n",
       "      <td>6.08</td>\n",
       "      <td>50.78, 6.08</td>\n",
       "    </tr>\n",
       "    <tr>\n",
       "      <th>1</th>\n",
       "      <td>1951</td>\n",
       "      <td>Aarhus</td>\n",
       "      <td>2</td>\n",
       "      <td>H6</td>\n",
       "      <td>720.0</td>\n",
       "      <td>56.18</td>\n",
       "      <td>10.23</td>\n",
       "      <td>56.18, 10.23</td>\n",
       "    </tr>\n",
       "    <tr>\n",
       "      <th>2</th>\n",
       "      <td>1952</td>\n",
       "      <td>Abee</td>\n",
       "      <td>6</td>\n",
       "      <td>EH4</td>\n",
       "      <td>107000.0</td>\n",
       "      <td>54.22</td>\n",
       "      <td>-113.00</td>\n",
       "      <td>54.22, -113.0</td>\n",
       "    </tr>\n",
       "    <tr>\n",
       "      <th>3</th>\n",
       "      <td>1976</td>\n",
       "      <td>Acapulco</td>\n",
       "      <td>10</td>\n",
       "      <td>Acapulcoite</td>\n",
       "      <td>1914.0</td>\n",
       "      <td>16.88</td>\n",
       "      <td>-99.90</td>\n",
       "      <td>16.88, -99.9</td>\n",
       "    </tr>\n",
       "    <tr>\n",
       "      <th>4</th>\n",
       "      <td>1902</td>\n",
       "      <td>Achiras</td>\n",
       "      <td>370</td>\n",
       "      <td>L6</td>\n",
       "      <td>780.0</td>\n",
       "      <td>-33.17</td>\n",
       "      <td>-64.95</td>\n",
       "      <td>-33.17, -64.95</td>\n",
       "    </tr>\n",
       "  </tbody>\n",
       "</table>\n",
       "</div>"
      ],
      "text/plain": [
       "   year      name   id     recclass  mass (g)  reclat  reclong     GeoLocation\n",
       "0  1880    Aachen    1           L5      21.0   50.78     6.08     50.78, 6.08\n",
       "1  1951    Aarhus    2           H6     720.0   56.18    10.23    56.18, 10.23\n",
       "2  1952      Abee    6          EH4  107000.0   54.22  -113.00   54.22, -113.0\n",
       "3  1976  Acapulco   10  Acapulcoite    1914.0   16.88   -99.90    16.88, -99.9\n",
       "4  1902   Achiras  370           L6     780.0  -33.17   -64.95  -33.17, -64.95"
      ]
     },
     "execution_count": 37,
     "metadata": {},
     "output_type": "execute_result"
    }
   ],
   "source": [
    "# replace Geolocation with input from reclat and reclong \n",
    "# should look like (reclat, reclong) to reclat, reclong\n",
    "# if that is not possible just drop it and create a new GeoLocation column\n",
    "df.drop(['GeoLocation'], axis=1)\n",
    "df['GeoLocation'] = df['reclat'].map(str) + \", \" + df['reclong'].map(str)\n",
    "df.head()"
   ]
  },
  {
   "cell_type": "markdown",
   "metadata": {},
   "source": [
    "Step 5: Check for Outliers "
   ]
  },
  {
   "cell_type": "code",
   "execution_count": 58,
   "metadata": {},
   "outputs": [
    {
     "data": {
      "text/html": [
       "<div>\n",
       "<style scoped>\n",
       "    .dataframe tbody tr th:only-of-type {\n",
       "        vertical-align: middle;\n",
       "    }\n",
       "\n",
       "    .dataframe tbody tr th {\n",
       "        vertical-align: top;\n",
       "    }\n",
       "\n",
       "    .dataframe thead th {\n",
       "        text-align: right;\n",
       "    }\n",
       "</style>\n",
       "<table border=\"1\" class=\"dataframe\">\n",
       "  <thead>\n",
       "    <tr style=\"text-align: right;\">\n",
       "      <th></th>\n",
       "      <th>year</th>\n",
       "      <th>name</th>\n",
       "      <th>id</th>\n",
       "      <th>recclass</th>\n",
       "      <th>mass (g)</th>\n",
       "      <th>reclat</th>\n",
       "      <th>reclong</th>\n",
       "      <th>GeoLocation</th>\n",
       "    </tr>\n",
       "  </thead>\n",
       "  <tbody>\n",
       "    <tr>\n",
       "      <th>0</th>\n",
       "      <td>1880</td>\n",
       "      <td>Aachen</td>\n",
       "      <td>1</td>\n",
       "      <td>L5</td>\n",
       "      <td>21.0</td>\n",
       "      <td>50.78</td>\n",
       "      <td>6.08</td>\n",
       "      <td>50.78, 6.08</td>\n",
       "    </tr>\n",
       "    <tr>\n",
       "      <th>1</th>\n",
       "      <td>1951</td>\n",
       "      <td>Aarhus</td>\n",
       "      <td>2</td>\n",
       "      <td>H6</td>\n",
       "      <td>720.0</td>\n",
       "      <td>56.18</td>\n",
       "      <td>10.23</td>\n",
       "      <td>56.18, 10.23</td>\n",
       "    </tr>\n",
       "    <tr>\n",
       "      <th>2</th>\n",
       "      <td>1952</td>\n",
       "      <td>Abee</td>\n",
       "      <td>6</td>\n",
       "      <td>EH4</td>\n",
       "      <td>107000.0</td>\n",
       "      <td>54.22</td>\n",
       "      <td>-113.00</td>\n",
       "      <td>54.22, -113.0</td>\n",
       "    </tr>\n",
       "    <tr>\n",
       "      <th>3</th>\n",
       "      <td>1976</td>\n",
       "      <td>Acapulco</td>\n",
       "      <td>10</td>\n",
       "      <td>Acapulcoite</td>\n",
       "      <td>1914.0</td>\n",
       "      <td>16.88</td>\n",
       "      <td>-99.90</td>\n",
       "      <td>16.88, -99.9</td>\n",
       "    </tr>\n",
       "    <tr>\n",
       "      <th>4</th>\n",
       "      <td>1902</td>\n",
       "      <td>Achiras</td>\n",
       "      <td>370</td>\n",
       "      <td>L6</td>\n",
       "      <td>780.0</td>\n",
       "      <td>-33.17</td>\n",
       "      <td>-64.95</td>\n",
       "      <td>-33.17, -64.95</td>\n",
       "    </tr>\n",
       "  </tbody>\n",
       "</table>\n",
       "</div>"
      ],
      "text/plain": [
       "   year      name   id     recclass  mass (g)  reclat  reclong     GeoLocation\n",
       "0  1880    Aachen    1           L5      21.0   50.78     6.08     50.78, 6.08\n",
       "1  1951    Aarhus    2           H6     720.0   56.18    10.23    56.18, 10.23\n",
       "2  1952      Abee    6          EH4  107000.0   54.22  -113.00   54.22, -113.0\n",
       "3  1976  Acapulco   10  Acapulcoite    1914.0   16.88   -99.90    16.88, -99.9\n",
       "4  1902   Achiras  370           L6     780.0  -33.17   -64.95  -33.17, -64.95"
      ]
     },
     "execution_count": 58,
     "metadata": {},
     "output_type": "execute_result"
    }
   ],
   "source": [
    "df.head()"
   ]
  },
  {
   "cell_type": "code",
   "execution_count": 61,
   "metadata": {},
   "outputs": [
    {
     "data": {
      "text/plain": [
       "180.66"
      ]
     },
     "execution_count": 61,
     "metadata": {},
     "output_type": "execute_result"
    }
   ],
   "source": [
    "# the relevant attributes we need to look for outliers in are year and mass\n",
    "# outliers will be values less than Q1-1.5*IQR and values greater than Q3+1.5*IQR according to \n",
    "# the definition of Inter Quartile Range\n",
    "Q1 = df['mass (g)'].quantile(0.25)\n",
    "Q3 = df['mass (g)'].quantile(0.75)\n",
    "IQR = Q3 - Q1\n",
    "IQR"
   ]
  },
  {
   "cell_type": "code",
   "execution_count": 74,
   "metadata": {},
   "outputs": [
    {
     "data": {
      "image/png": "[encoded data removed]",
      "text/plain": [
       "<Figure size 432x288 with 1 Axes>"
      ]
     },
     "metadata": {
      "needs_background": "light"
     },
     "output_type": "display_data"
    }
   ],
   "source": [
    "plt.scatter(x = df['year'],y = df['mass (g)'])\n",
    "plt.xlabel(xlabel='year')\n",
    "plt.ylabel(ylabel='mass (g)')\n",
    "plt.show()"
   ]
  },
  {
   "cell_type": "code",
   "execution_count": 72,
   "metadata": {},
   "outputs": [
    {
     "data": {
      "image/png": "[encoded data removed]",
      "text/plain": [
       "<Figure size 432x288 with 1 Axes>"
      ]
     },
     "metadata": {
      "needs_background": "light"
     },
     "output_type": "display_data"
    }
   ],
   "source": [
    "plt.hist(df['mass (g)'], bins=15)\n",
    "plt.show()"
   ]
  },
  {
   "cell_type": "code",
   "execution_count": 67,
   "metadata": {},
   "outputs": [
    {
     "data": {
      "text/plain": [
       "1.30        155\n",
       "1.20        122\n",
       "1.40        120\n",
       "2.10        115\n",
       "2.40        108\n",
       "3.80        104\n",
       "1.60        101\n",
       "1.70         97\n",
       "0.70         97\n",
       "1.50         96\n",
       "3.00         95\n",
       "1.10         94\n",
       "1.80         93\n",
       "3.20         93\n",
       "3.10         91\n",
       "0.50         91\n",
       "0.60         90\n",
       "2.50         89\n",
       "3.60         88\n",
       "2.70         87\n",
       "0.90         84\n",
       "2.90         83\n",
       "1.00         82\n",
       "2.00         82\n",
       "0.80         81\n",
       "4.20         80\n",
       "2.20         79\n",
       "2.60         79\n",
       "2.80         77\n",
       "3.40         77\n",
       "           ... \n",
       "94800.00      1\n",
       "637.00        1\n",
       "825.00        1\n",
       "33.19         1\n",
       "38.03         1\n",
       "40.81         1\n",
       "424.20        1\n",
       "18.09         1\n",
       "51500.00      1\n",
       "97.45         1\n",
       "92.99         1\n",
       "1767.20       1\n",
       "409.90        1\n",
       "2195.00       1\n",
       "29.68         1\n",
       "389.21        1\n",
       "146.35        1\n",
       "4763.00       1\n",
       "13901.00      1\n",
       "1637.00       1\n",
       "785.10        1\n",
       "23.03         1\n",
       "17.28         1\n",
       "758.70        1\n",
       "202.69        1\n",
       "355.40        1\n",
       "7526.40       1\n",
       "397.56        1\n",
       "46.29         1\n",
       "1413.60       1\n",
       "Name: mass (g), Length: 11220, dtype: int64"
      ]
     },
     "execution_count": 67,
     "metadata": {},
     "output_type": "execute_result"
    }
   ],
   "source": [
    "df['mass (g)'].value_counts()"
   ]
  },
  {
   "cell_type": "markdown",
   "metadata": {},
   "source": [
    "Step 6: Check for Bad Data and Duplicates"
   ]
  },
  {
   "cell_type": "code",
   "execution_count": 38,
   "metadata": {},
   "outputs": [
    {
     "data": {
      "text/plain": [
       "year           0\n",
       "name           0\n",
       "id             0\n",
       "recclass       0\n",
       "mass (g)       0\n",
       "reclat         0\n",
       "reclong        0\n",
       "GeoLocation    0\n",
       "dtype: int64"
      ]
     },
     "execution_count": 38,
     "metadata": {},
     "output_type": "execute_result"
    }
   ],
   "source": [
    "df.isnull().sum()"
   ]
  },
  {
   "cell_type": "code",
   "execution_count": 57,
   "metadata": {},
   "outputs": [
    {
     "data": {
      "text/html": [
       "<div>\n",
       "<style scoped>\n",
       "    .dataframe tbody tr th:only-of-type {\n",
       "        vertical-align: middle;\n",
       "    }\n",
       "\n",
       "    .dataframe tbody tr th {\n",
       "        vertical-align: top;\n",
       "    }\n",
       "\n",
       "    .dataframe thead th {\n",
       "        text-align: right;\n",
       "    }\n",
       "</style>\n",
       "<table border=\"1\" class=\"dataframe\">\n",
       "  <thead>\n",
       "    <tr style=\"text-align: right;\">\n",
       "      <th></th>\n",
       "      <th>year</th>\n",
       "      <th>name</th>\n",
       "      <th>id</th>\n",
       "      <th>recclass</th>\n",
       "      <th>mass (g)</th>\n",
       "      <th>reclat</th>\n",
       "      <th>reclong</th>\n",
       "      <th>GeoLocation</th>\n",
       "    </tr>\n",
       "  </thead>\n",
       "  <tbody>\n",
       "  </tbody>\n",
       "</table>\n",
       "</div>"
      ],
      "text/plain": [
       "Empty DataFrame\n",
       "Columns: [year, name, id, recclass, mass (g), reclat, reclong, GeoLocation]\n",
       "Index: []"
      ]
     },
     "execution_count": 57,
     "metadata": {},
     "output_type": "execute_result"
    }
   ],
   "source": [
    "duplicate_rows = df[df.duplicated()]\n",
    "duplicate_rows"
   ]
  },
  {
   "cell_type": "code",
   "execution_count": 75,
   "metadata": {},
   "outputs": [],
   "source": [
    "df.to_csv('data_set/M_Landings_cleaned.csv')"
   ]
  }
 ],
 "metadata": {
  "kernelspec": {
   "display_name": "Python 3",
   "language": "python",
   "name": "python3"
  },
  "language_info": {
   "codemirror_mode": {
    "name": "ipython",
    "version": 3
   },
   "file_extension": ".py",
   "mimetype": "text/x-python",
   "name": "python",
   "nbconvert_exporter": "python",
   "pygments_lexer": "ipython3",
   "version": "3.7.3"
  }
 },
 "nbformat": 4,
 "nbformat_minor": 2
}
